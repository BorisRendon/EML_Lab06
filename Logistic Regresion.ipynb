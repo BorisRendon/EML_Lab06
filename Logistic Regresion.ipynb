{
 "cells": [
  {
   "cell_type": "code",
   "execution_count": 1,
   "id": "removed-limit",
   "metadata": {},
   "outputs": [],
   "source": [
    "import math\n",
    "import pandas as pd\n",
    "import numpy as np\n",
    "import warnings\n",
    "warnings.filterwarnings('ignore')\n",
    "import matplotlib.pyplot as plt\n",
    "import seaborn as sns"
   ]
  },
  {
   "cell_type": "code",
   "execution_count": 2,
   "id": "random-forum",
   "metadata": {},
   "outputs": [],
   "source": [
    "df = pd.read_csv('wine_data.csv')"
   ]
  },
  {
   "cell_type": "code",
   "execution_count": 5,
   "id": "northern-gamma",
   "metadata": {},
   "outputs": [
    {
     "data": {
      "text/html": [
       "<div>\n",
       "<style scoped>\n",
       "    .dataframe tbody tr th:only-of-type {\n",
       "        vertical-align: middle;\n",
       "    }\n",
       "\n",
       "    .dataframe tbody tr th {\n",
       "        vertical-align: top;\n",
       "    }\n",
       "\n",
       "    .dataframe thead th {\n",
       "        text-align: right;\n",
       "    }\n",
       "</style>\n",
       "<table border=\"1\" class=\"dataframe\">\n",
       "  <thead>\n",
       "    <tr style=\"text-align: right;\">\n",
       "      <th></th>\n",
       "      <th>Alcohol</th>\n",
       "      <th>Malic acid</th>\n",
       "      <th>Ash</th>\n",
       "      <th>Alcalinity of ash</th>\n",
       "      <th>Magnesium</th>\n",
       "      <th>Total phenols</th>\n",
       "      <th>Flavanoids</th>\n",
       "      <th>Nonflavanoid phenols</th>\n",
       "      <th>Proanthocyanins</th>\n",
       "      <th>Color intensity</th>\n",
       "      <th>Hue</th>\n",
       "      <th>Diluted wines</th>\n",
       "      <th>Proline</th>\n",
       "      <th>Unnamed: 13</th>\n",
       "    </tr>\n",
       "  </thead>\n",
       "  <tbody>\n",
       "    <tr>\n",
       "      <th>0</th>\n",
       "      <td>1</td>\n",
       "      <td>14.23</td>\n",
       "      <td>1.71</td>\n",
       "      <td>2.43</td>\n",
       "      <td>15.6</td>\n",
       "      <td>127</td>\n",
       "      <td>2.80</td>\n",
       "      <td>3.06</td>\n",
       "      <td>0.28</td>\n",
       "      <td>2.29</td>\n",
       "      <td>5.64</td>\n",
       "      <td>1.04</td>\n",
       "      <td>3.92</td>\n",
       "      <td>1065</td>\n",
       "    </tr>\n",
       "    <tr>\n",
       "      <th>1</th>\n",
       "      <td>1</td>\n",
       "      <td>13.20</td>\n",
       "      <td>1.78</td>\n",
       "      <td>2.14</td>\n",
       "      <td>11.2</td>\n",
       "      <td>100</td>\n",
       "      <td>2.65</td>\n",
       "      <td>2.76</td>\n",
       "      <td>0.26</td>\n",
       "      <td>1.28</td>\n",
       "      <td>4.38</td>\n",
       "      <td>1.05</td>\n",
       "      <td>3.40</td>\n",
       "      <td>1050</td>\n",
       "    </tr>\n",
       "    <tr>\n",
       "      <th>2</th>\n",
       "      <td>1</td>\n",
       "      <td>13.16</td>\n",
       "      <td>2.36</td>\n",
       "      <td>2.67</td>\n",
       "      <td>18.6</td>\n",
       "      <td>101</td>\n",
       "      <td>2.80</td>\n",
       "      <td>3.24</td>\n",
       "      <td>0.30</td>\n",
       "      <td>2.81</td>\n",
       "      <td>5.68</td>\n",
       "      <td>1.03</td>\n",
       "      <td>3.17</td>\n",
       "      <td>1185</td>\n",
       "    </tr>\n",
       "    <tr>\n",
       "      <th>3</th>\n",
       "      <td>1</td>\n",
       "      <td>14.37</td>\n",
       "      <td>1.95</td>\n",
       "      <td>2.50</td>\n",
       "      <td>16.8</td>\n",
       "      <td>113</td>\n",
       "      <td>3.85</td>\n",
       "      <td>3.49</td>\n",
       "      <td>0.24</td>\n",
       "      <td>2.18</td>\n",
       "      <td>7.80</td>\n",
       "      <td>0.86</td>\n",
       "      <td>3.45</td>\n",
       "      <td>1480</td>\n",
       "    </tr>\n",
       "    <tr>\n",
       "      <th>4</th>\n",
       "      <td>1</td>\n",
       "      <td>13.24</td>\n",
       "      <td>2.59</td>\n",
       "      <td>2.87</td>\n",
       "      <td>21.0</td>\n",
       "      <td>118</td>\n",
       "      <td>2.80</td>\n",
       "      <td>2.69</td>\n",
       "      <td>0.39</td>\n",
       "      <td>1.82</td>\n",
       "      <td>4.32</td>\n",
       "      <td>1.04</td>\n",
       "      <td>2.93</td>\n",
       "      <td>735</td>\n",
       "    </tr>\n",
       "  </tbody>\n",
       "</table>\n",
       "</div>"
      ],
      "text/plain": [
       "   Alcohol  Malic acid   Ash  Alcalinity of ash  Magnesium  Total phenols  \\\n",
       "0        1       14.23  1.71               2.43       15.6            127   \n",
       "1        1       13.20  1.78               2.14       11.2            100   \n",
       "2        1       13.16  2.36               2.67       18.6            101   \n",
       "3        1       14.37  1.95               2.50       16.8            113   \n",
       "4        1       13.24  2.59               2.87       21.0            118   \n",
       "\n",
       "   Flavanoids  Nonflavanoid phenols  Proanthocyanins  Color intensity   Hue  \\\n",
       "0        2.80                  3.06             0.28             2.29  5.64   \n",
       "1        2.65                  2.76             0.26             1.28  4.38   \n",
       "2        2.80                  3.24             0.30             2.81  5.68   \n",
       "3        3.85                  3.49             0.24             2.18  7.80   \n",
       "4        2.80                  2.69             0.39             1.82  4.32   \n",
       "\n",
       "   Diluted wines  Proline  Unnamed: 13  \n",
       "0           1.04     3.92         1065  \n",
       "1           1.05     3.40         1050  \n",
       "2           1.03     3.17         1185  \n",
       "3           0.86     3.45         1480  \n",
       "4           1.04     2.93          735  "
      ]
     },
     "execution_count": 5,
     "metadata": {},
     "output_type": "execute_result"
    }
   ],
   "source": [
    "df.head()"
   ]
  },
  {
   "cell_type": "markdown",
   "id": "further-lafayette",
   "metadata": {},
   "source": [
    "#### Implementation of sigmoid"
   ]
  },
  {
   "cell_type": "code",
   "execution_count": 6,
   "id": "independent-annotation",
   "metadata": {},
   "outputs": [],
   "source": [
    "def reg_cost(X, y, theta):\n",
    "    x_hat = X @ theta\n",
    "    h = 1 / (1 + np.exp(-x_hat))\n",
    "    return -(y * np.log(h)) + ((1 - y) * np.log(1 - h))\n",
    "\n",
    "def reg_cost_prime(X, y, theta):\n",
    "    h = X @ theta\n",
    "    return ((X.T @ (h-y)) / len(X))\n",
    "\n",
    "def gradient_descent(\n",
    "    X, y, theta_0, \n",
    "    cost_function, cost_function_prime,\n",
    "    learning_rate, threshold, max_iter=1000\n",
    "):\n",
    "    theta = theta_0\n",
    "    iteration = 0\n",
    "    costs = []\n",
    "    thetas = []\n",
    "\n",
    "    while np.linalg.norm(cost_function_prime(X, y, theta)) > threshold and iteration < max_iter:\n",
    "        iteration += 1\n",
    "        theta -= learning_rate * cost_function_prime(X, y, theta)\n",
    "        costs.append(cost_function(X, y, theta))\n",
    "        thetas.append(theta.copy())\n",
    "    return theta, costs, thetas"
   ]
  },
  {
   "cell_type": "markdown",
   "id": "adjusted-gauge",
   "metadata": {},
   "source": [
    "##### ajuste de la data, hacer el shuffle"
   ]
  },
  {
   "cell_type": "code",
   "execution_count": 7,
   "id": "changed-horror",
   "metadata": {},
   "outputs": [
    {
     "data": {
      "text/html": [
       "<div>\n",
       "<style scoped>\n",
       "    .dataframe tbody tr th:only-of-type {\n",
       "        vertical-align: middle;\n",
       "    }\n",
       "\n",
       "    .dataframe tbody tr th {\n",
       "        vertical-align: top;\n",
       "    }\n",
       "\n",
       "    .dataframe thead th {\n",
       "        text-align: right;\n",
       "    }\n",
       "</style>\n",
       "<table border=\"1\" class=\"dataframe\">\n",
       "  <thead>\n",
       "    <tr style=\"text-align: right;\">\n",
       "      <th></th>\n",
       "      <th>Alcohol</th>\n",
       "      <th>Malic acid</th>\n",
       "      <th>Ash</th>\n",
       "      <th>Alcalinity of ash</th>\n",
       "      <th>Magnesium</th>\n",
       "      <th>Total phenols</th>\n",
       "      <th>Flavanoids</th>\n",
       "      <th>Nonflavanoid phenols</th>\n",
       "      <th>Proanthocyanins</th>\n",
       "      <th>Color intensity</th>\n",
       "      <th>Hue</th>\n",
       "      <th>Diluted wines</th>\n",
       "      <th>Proline</th>\n",
       "      <th>Unnamed: 13</th>\n",
       "    </tr>\n",
       "  </thead>\n",
       "  <tbody>\n",
       "    <tr>\n",
       "      <th>50</th>\n",
       "      <td>1</td>\n",
       "      <td>13.05</td>\n",
       "      <td>1.73</td>\n",
       "      <td>2.04</td>\n",
       "      <td>12.4</td>\n",
       "      <td>92</td>\n",
       "      <td>2.72</td>\n",
       "      <td>3.27</td>\n",
       "      <td>0.17</td>\n",
       "      <td>2.91</td>\n",
       "      <td>7.20</td>\n",
       "      <td>1.12</td>\n",
       "      <td>2.91</td>\n",
       "      <td>1150</td>\n",
       "    </tr>\n",
       "    <tr>\n",
       "      <th>78</th>\n",
       "      <td>2</td>\n",
       "      <td>12.33</td>\n",
       "      <td>0.99</td>\n",
       "      <td>1.95</td>\n",
       "      <td>14.8</td>\n",
       "      <td>136</td>\n",
       "      <td>1.90</td>\n",
       "      <td>1.85</td>\n",
       "      <td>0.35</td>\n",
       "      <td>2.76</td>\n",
       "      <td>3.40</td>\n",
       "      <td>1.06</td>\n",
       "      <td>2.31</td>\n",
       "      <td>750</td>\n",
       "    </tr>\n",
       "    <tr>\n",
       "      <th>95</th>\n",
       "      <td>2</td>\n",
       "      <td>12.47</td>\n",
       "      <td>1.52</td>\n",
       "      <td>2.20</td>\n",
       "      <td>19.0</td>\n",
       "      <td>162</td>\n",
       "      <td>2.50</td>\n",
       "      <td>2.27</td>\n",
       "      <td>0.32</td>\n",
       "      <td>3.28</td>\n",
       "      <td>2.60</td>\n",
       "      <td>1.16</td>\n",
       "      <td>2.63</td>\n",
       "      <td>937</td>\n",
       "    </tr>\n",
       "    <tr>\n",
       "      <th>108</th>\n",
       "      <td>2</td>\n",
       "      <td>12.22</td>\n",
       "      <td>1.29</td>\n",
       "      <td>1.94</td>\n",
       "      <td>19.0</td>\n",
       "      <td>92</td>\n",
       "      <td>2.36</td>\n",
       "      <td>2.04</td>\n",
       "      <td>0.39</td>\n",
       "      <td>2.08</td>\n",
       "      <td>2.70</td>\n",
       "      <td>0.86</td>\n",
       "      <td>3.02</td>\n",
       "      <td>312</td>\n",
       "    </tr>\n",
       "    <tr>\n",
       "      <th>117</th>\n",
       "      <td>2</td>\n",
       "      <td>12.42</td>\n",
       "      <td>1.61</td>\n",
       "      <td>2.19</td>\n",
       "      <td>22.5</td>\n",
       "      <td>108</td>\n",
       "      <td>2.00</td>\n",
       "      <td>2.09</td>\n",
       "      <td>0.34</td>\n",
       "      <td>1.61</td>\n",
       "      <td>2.06</td>\n",
       "      <td>1.06</td>\n",
       "      <td>2.96</td>\n",
       "      <td>345</td>\n",
       "    </tr>\n",
       "  </tbody>\n",
       "</table>\n",
       "</div>"
      ],
      "text/plain": [
       "     Alcohol  Malic acid   Ash  Alcalinity of ash  Magnesium  Total phenols  \\\n",
       "50         1       13.05  1.73               2.04       12.4             92   \n",
       "78         2       12.33  0.99               1.95       14.8            136   \n",
       "95         2       12.47  1.52               2.20       19.0            162   \n",
       "108        2       12.22  1.29               1.94       19.0             92   \n",
       "117        2       12.42  1.61               2.19       22.5            108   \n",
       "\n",
       "     Flavanoids  Nonflavanoid phenols  Proanthocyanins  Color intensity   Hue  \\\n",
       "50         2.72                  3.27             0.17             2.91  7.20   \n",
       "78         1.90                  1.85             0.35             2.76  3.40   \n",
       "95         2.50                  2.27             0.32             3.28  2.60   \n",
       "108        2.36                  2.04             0.39             2.08  2.70   \n",
       "117        2.00                  2.09             0.34             1.61  2.06   \n",
       "\n",
       "     Diluted wines  Proline  Unnamed: 13  \n",
       "50            1.12     2.91         1150  \n",
       "78            1.06     2.31          750  \n",
       "95            1.16     2.63          937  \n",
       "108           0.86     3.02          312  \n",
       "117           1.06     2.96          345  "
      ]
     },
     "execution_count": 7,
     "metadata": {},
     "output_type": "execute_result"
    }
   ],
   "source": [
    "df = df.sample(frac=1)\n",
    "df.head()"
   ]
  },
  {
   "cell_type": "code",
   "execution_count": 8,
   "id": "formed-residence",
   "metadata": {},
   "outputs": [],
   "source": [
    "df['ones'] = np.ones(len(df))\n",
    "X = np.array(df.loc[:, ['ones', 'Malic acid', 'Flavanoids', 'Nonflavanoid phenols', 'Proanthocyanins', 'Hue']].copy())\n",
    "y = np.array(df.loc[:, ['Alcohol']].copy())"
   ]
  },
  {
   "cell_type": "markdown",
   "id": "stylish-columbus",
   "metadata": {},
   "source": [
    "#### Split de data\n",
    "- train 70%\n",
    "- test 15%\n",
    "- cross validation 15%\n",
    "\n"
   ]
  },
  {
   "cell_type": "code",
   "execution_count": 9,
   "id": "induced-threshold",
   "metadata": {},
   "outputs": [],
   "source": [
    "X_train = X[:124]\n",
    "X_cv = X[125:150]\n",
    "X_test = X[151:178]\n",
    "y_train = y[:124]\n",
    "y_cv = y[125:150]\n",
    "y_test = y[151:178]\n"
   ]
  },
  {
   "cell_type": "code",
   "execution_count": 10,
   "id": "mineral-decline",
   "metadata": {},
   "outputs": [],
   "source": [
    "m, n = X.shape\n",
    "theta_0 = np.random.rand(n, 1)"
   ]
  },
  {
   "cell_type": "markdown",
   "id": "serious-sussex",
   "metadata": {},
   "source": [
    "##### Implementacion de diferentes modelos por grado polinomial"
   ]
  },
  {
   "cell_type": "markdown",
   "id": "duplicate-desire",
   "metadata": {},
   "source": [
    "###### Grado polinomial 1"
   ]
  },
  {
   "cell_type": "code",
   "execution_count": 23,
   "id": "respiratory-participation",
   "metadata": {},
   "outputs": [
    {
     "data": {
      "text/plain": [
       "array([[ 0.19246474],\n",
       "       [-0.01178021],\n",
       "       [ 0.37472702],\n",
       "       [ 0.30930173],\n",
       "       [ 0.73776523],\n",
       "       [ 0.08107034]])"
      ]
     },
     "execution_count": 23,
     "metadata": {},
     "output_type": "execute_result"
    }
   ],
   "source": [
    "r_theta_tr, costs_tr, thetas_tr = gradient_descent(X_train, y_train, theta_0, reg_cost, reg_cost_prime, 0.000000001, 0.01)\n",
    "r_theta_tr"
   ]
  },
  {
   "cell_type": "code",
   "execution_count": 24,
   "id": "electronic-secretariat",
   "metadata": {},
   "outputs": [
    {
     "name": "stdout",
     "output_type": "stream",
     "text": [
      "Costo de Train:  4.49103195487084\n"
     ]
    }
   ],
   "source": [
    "print(\"Costo de Train: \",  costs_tr[-1][-1][0])"
   ]
  },
  {
   "cell_type": "code",
   "execution_count": 28,
   "id": "green-nothing",
   "metadata": {},
   "outputs": [
    {
     "name": "stdout",
     "output_type": "stream",
     "text": [
      "Costo de Test:  2.17078661443846 \n",
      "Costo de CV:  2.2467044071876545\n"
     ]
    }
   ],
   "source": [
    "print(\"Costo de Test: \", reg_cost(X_test, y_test, r_theta_tr)[-1][0],\"\\nCosto de CV: \" ,reg_cost(X_cv, y_cv, r_theta_tr)[-1][0])"
   ]
  },
  {
   "cell_type": "markdown",
   "id": "accepted-museum",
   "metadata": {},
   "source": [
    "###### Grado polinomial 2"
   ]
  },
  {
   "cell_type": "code",
   "execution_count": 14,
   "id": "legislative-collection",
   "metadata": {},
   "outputs": [
    {
     "data": {
      "text/plain": [
       "array([[ 0.19245355],\n",
       "       [-0.00730656],\n",
       "       [ 0.37518801],\n",
       "       [ 0.31041455],\n",
       "       [ 0.73776435],\n",
       "       [ 0.14403815]])"
      ]
     },
     "execution_count": 14,
     "metadata": {},
     "output_type": "execute_result"
    }
   ],
   "source": [
    "r_theta_tr2, costs_tr2, thetas_tr2 = gradient_descent(X_train ** 2, y_train, theta_0, reg_cost, reg_cost_prime, 0.0000001, 0.01)\n",
    "r_theta_tr2"
   ]
  },
  {
   "cell_type": "code",
   "execution_count": 15,
   "id": "refined-hobby",
   "metadata": {},
   "outputs": [
    {
     "name": "stdout",
     "output_type": "stream",
     "text": [
      "Costo de Train:  15.414462097879499\n"
     ]
    }
   ],
   "source": [
    "print(\"Costo de Train: \",  costs_tr2[-1][-1][0])"
   ]
  },
  {
   "cell_type": "code",
   "execution_count": 30,
   "id": "marked-alpha",
   "metadata": {},
   "outputs": [
    {
     "name": "stdout",
     "output_type": "stream",
     "text": [
      "Costo de test 1.9227141352464185 \n",
      "CV cost 2.0791010216193304\n"
     ]
    }
   ],
   "source": [
    "print(\"Costo de test\",reg_cost(X_test ** 2, y_test, r_theta_tr)[-1][0],\"\\nCV cost\" ,reg_cost(X_cv ** 2, y_cv, r_theta_tr)[-1][0])"
   ]
  },
  {
   "cell_type": "markdown",
   "id": "japanese-prophet",
   "metadata": {},
   "source": [
    "###### Grado polinomial 3"
   ]
  },
  {
   "cell_type": "code",
   "execution_count": 17,
   "id": "altered-musician",
   "metadata": {},
   "outputs": [
    {
     "data": {
      "text/plain": [
       "array([[ 0.19246496],\n",
       "       [-0.01177699],\n",
       "       [ 0.37472819],\n",
       "       [ 0.30930333],\n",
       "       [ 0.73776524],\n",
       "       [ 0.08107137]])"
      ]
     },
     "execution_count": 17,
     "metadata": {},
     "output_type": "execute_result"
    }
   ],
   "source": [
    "r_theta_tr3, costs_tr3, thetas_tr3 = gradient_descent(X_train ** 3, y_train, theta_0, reg_cost, reg_cost_prime, 0.00000001, 0.01)\n",
    "r_theta_tr3"
   ]
  },
  {
   "cell_type": "code",
   "execution_count": 18,
   "id": "official-shame",
   "metadata": {},
   "outputs": [
    {
     "name": "stdout",
     "output_type": "stream",
     "text": [
      "Train cost:  15.03661706098865\n"
     ]
    }
   ],
   "source": [
    "print(\"Train cost: \" ,costs_tr3[-1][-1][0])"
   ]
  },
  {
   "cell_type": "code",
   "execution_count": 19,
   "id": "objective-cancer",
   "metadata": {},
   "outputs": [
    {
     "name": "stdout",
     "output_type": "stream",
     "text": [
      "test cost:  30.338848186066684 \n",
      "cv cost: 26.02742838449142\n"
     ]
    }
   ],
   "source": [
    "print(\"test cost: \" , reg_cost(X_test ** 3, y_test, r_theta_tr)[-1][0],\"\\ncv cost:\",reg_cost(X_cv ** 3, y_cv, r_theta_tr)[-1][0])\n"
   ]
  },
  {
   "cell_type": "code",
   "execution_count": 29,
   "id": "greatest-naples",
   "metadata": {},
   "outputs": [],
   "source": [
    "TC= [costs_tr[-1][-1][0], costs_tr2[-1][-1][0], costs_tr3[-1][-1][0]]\n",
    "TestCost = TestCost = [reg_cost(X_test, y_test, r_theta_tr)[-1][0], reg_cost(X_test, y_test, r_theta_tr)[-1][0] ** 2, reg_cost(X_test, y_test, r_theta_tr)[-1][0] ** 3]\n"
   ]
  },
  {
   "cell_type": "code",
   "execution_count": 31,
   "id": "accepted-faith",
   "metadata": {},
   "outputs": [
    {
     "data": {
      "text/plain": [
       "[2.17078661443846, 4.712314525425192, 10.229429294816931]"
      ]
     },
     "execution_count": 31,
     "metadata": {},
     "output_type": "execute_result"
    }
   ],
   "source": [
    "TestCost"
   ]
  },
  {
   "cell_type": "code",
   "execution_count": 32,
   "id": "collect-electron",
   "metadata": {},
   "outputs": [
    {
     "data": {
      "text/plain": [
       "[4.49103195487084, 15.414462097879499, 15.03661706098865]"
      ]
     },
     "execution_count": 32,
     "metadata": {},
     "output_type": "execute_result"
    }
   ],
   "source": [
    "TC"
   ]
  },
  {
   "cell_type": "markdown",
   "id": "careful-visibility",
   "metadata": {},
   "source": [
    "Como podemos ver en los modelos, el modelo con el costo más bajo es el modelo 1 con un costo de entrenamiento de **4.49**. un costo de test de **2.17** y uno ce cross validation de **2.72**"
   ]
  },
  {
   "cell_type": "markdown",
   "id": "armed-florida",
   "metadata": {},
   "source": [
    "**nota**\n",
    "\n",
    "Llegar a un resultado con sentido tuve que jugar mucho con los learning rates y con el treshold"
   ]
  }
 ],
 "metadata": {
  "kernelspec": {
   "display_name": "Python 3",
   "language": "python",
   "name": "python3"
  },
  "language_info": {
   "codemirror_mode": {
    "name": "ipython",
    "version": 3
   },
   "file_extension": ".py",
   "mimetype": "text/x-python",
   "name": "python",
   "nbconvert_exporter": "python",
   "pygments_lexer": "ipython3",
   "version": "3.8.7"
  }
 },
 "nbformat": 4,
 "nbformat_minor": 5
}
